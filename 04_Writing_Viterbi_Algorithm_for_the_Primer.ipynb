{
 "cells": [
  {
   "cell_type": "markdown",
   "id": "8fbb5c9c",
   "metadata": {},
   "source": [
    "# Understanding the Viterbi Algorithm for DNA Sequence Analysis\n",
    "\n",
    "## Introduction\n",
    "In our BEE-102 class, we've been studying this cool algorithm called Viterbi that helps us figure out hidden patterns in DNA sequences. It's basically used to find the most likely sequence of hidden states (like whether a part of DNA is an exon or intron) based on the nucleotide sequence we can observe. It's pretty neat once you get the hang of it!\n",
    "\n",
    "## What's a Hidden Markov Model?\n",
    "Before diving into Viterbi, I should explain what a Hidden Markov Model (HMM) is. It's like having two parallel processes:\n",
    "- One process that we can't directly see (the hidden states)\n",
    "- Another process that we can observe (the emissions)\n",
    "\n",
    "In DNA analysis:\n",
    "- The hidden states might be things like exons (E), introns (I), and splice sites (5)\n",
    "- What we actually observe are just the nucleotides (A, T, G, C)"
   ]
  },
  {
   "cell_type": "code",
   "execution_count": 7,
   "id": "28a8910d",
   "metadata": {},
   "outputs": [],
   "source": [
    "hmm_states = ['E', '5', 'I']\n",
    "dna_bases = ['A', 'C', 'G', 'T']\n",
    "\n",
    "start_probs = {'E': 1.0, '5': 0.0, 'I': 0.0}\n",
    "\n",
    "trans_probs = {\n",
    "    'Start': {'E':1.0, '5': 0.0, 'I': 0.0, 'End': 0.0},\n",
    "    'E': {'E': 0.9, '5': 0.1 , 'I': 0.0, 'End': 0.0},\n",
    "    '5': {'E': 0.0, '5': 0.0 , 'I': 1.0, 'End': 0.0},\n",
    "    'I': {'E': 0.0, '5': 0.0 , 'I': 0.9, 'End': 0.1}\n",
    "}\n",
    "\n",
    "emit_probs = {\n",
    "    'E': {'A': 0.25, 'C': 0.25, 'G': 0.25, 'T': 0.25},\n",
    "    '5': {'A': 0.05, 'C': 0.0, 'G': 0.95, 'T': 0.0},\n",
    "    'I': {'A': 0.4, 'C': 0.1, 'G': 0.1, 'T': 0.4},\n",
    "}"
   ]
  },
  {
   "cell_type": "markdown",
   "id": "6158df9e",
   "metadata": {},
   "source": [
    "## The Problem We're Solving\n",
    "We have a DNA sequence like \"CTTCATGTGAAAGCAGACGTAAGTCA\", and we want to know which parts are most likely exons, introns, or splice sites. But we can't directly see these features - we have to infer them from the patterns of nucleotides.\n",
    "\n",
    "## How Viterbi Works\n",
    "The Viterbi algorithm is all about finding the most likely path through hidden states. It works by:\n",
    "\n",
    "1. Starting from the beginning of the sequence\n",
    "2. For each position, calculating the most likely state based on:\n",
    "   - What we've seen so far\n",
    "   - The transition probabilities between states\n",
    "   - The emission probabilities of observing particular nucleotides\n",
    "\n",
    "The cool thing is it doesn't have to try every possible path (which would be CRAZY for long sequences) - it uses dynamic programming to be efficient."
   ]
  },
  {
   "cell_type": "code",
   "execution_count": 8,
   "id": "e4e3aa2b",
   "metadata": {},
   "outputs": [
    {
     "name": "stdout",
     "output_type": "stream",
     "text": [
      "-41.22\n"
     ]
    }
   ],
   "source": [
    "import math\n",
    "def safe_log(num):\n",
    "    if (num == 0):\n",
    "        return -math.inf\n",
    "    else:\n",
    "        return math.log(num)\n",
    "\n",
    "def calc_path_probability(states, sequence):\n",
    "    if len(states) != len(sequence):\n",
    "        raise ValueError(\"States and sequence must be the same length.\")\n",
    "\n",
    "    total_log_prob = 0.0\n",
    "    last_state = 'Start'\n",
    "\n",
    "    # Main logic: Calculate the probability by adding log probabilities of transitions and emissions\n",
    "    for curr_state, base in zip(states, sequence):\n",
    "        trans_prob = safe_log(trans_probs[last_state][curr_state])\n",
    "        emit_prob = safe_log(emit_probs[curr_state][base])\n",
    "        total_log_prob += trans_prob + emit_prob\n",
    "        last_state = curr_state\n",
    "    \n",
    "    # Add final transition to End state if we're in an intron\n",
    "    if last_state == 'I':\n",
    "        total_log_prob += safe_log(trans_probs[last_state]['End'])\n",
    "\n",
    "    return total_log_prob\n",
    "\n",
    "print(round(calc_path_probability(\"EEEEEEEEEEEEEEEEEE5IIIIIII\", \"CTTCATGTGAAAGCAGACGTAAGTCA\"), 2))"
   ]
  },
  {
   "cell_type": "markdown",
   "id": "c533fa6b",
   "metadata": {},
   "source": [
    "## Key Components for Our Implementation\n",
    "\n",
    "### 1. States\n",
    "In our model, we have three states:\n",
    "- E: Exon regions (coding DNA)\n",
    "- I: Intron regions (non-coding DNA) \n",
    "- 5: 5' splice site (transition region between exon and intron)\n",
    "\n",
    "### 2. Transition Matrix\n",
    "This shows the probability of moving from one state to another:\n",
    "- P(E→E): How likely we stay in an exon\n",
    "- P(E→5): How likely we transition from exon to splice site\n",
    "- P(5→I): How likely we go from splice site to intron\n",
    "- P(I→I): How likely we stay in an intron\n",
    "- etc.\n",
    "\n",
    "### 3. Emission Matrix\n",
    "This shows how likely each state is to emit particular nucleotides:\n",
    "- P(A|E): Probability of seeing an A in an exon\n",
    "- P(G|I): Probability of seeing a G in an intron\n",
    "- etc.\n",
    "\n",
    "### 4. Using Log Probabilities\n",
    "One tricky part is that when we multiply many small probabilities, we can get numerical underflow. To avoid this, we use log probabilities. Adding log probabilities is equivalent to multiplying regular probabilities."
   ]
  },
  {
   "cell_type": "code",
   "execution_count": 9,
   "id": "bd81d0b1",
   "metadata": {},
   "outputs": [
    {
     "name": "stdout",
     "output_type": "stream",
     "text": [
      "['E', 'E', 'E', 'E', 'E', 'E', 'E', 'E', 'E', 'E', 'E', 'E', 'E', 'E', 'E', 'E', 'E', 'E', 'E', 'E', 'E', 'E', 'E', 'E', 'E', 'E']\n"
     ]
    }
   ],
   "source": [
    "def find_best_path(dna_seq):\n",
    "    seq_len = len(dna_seq)\n",
    "    \n",
    "    dp_table = [{} for _ in range(seq_len)] # Stores probabilities at each step\n",
    "    backtrack = [{} for _ in range(seq_len)] # Stores previous state for backtracking\n",
    "\n",
    "    # Initialize the first position in our DP table\n",
    "    for state in hmm_states:\n",
    "        dp_table[0][state] = start_probs[state] * emit_probs[state][dna_seq[0]]\n",
    "    \n",
    "    # Main Viterbi logic: Fill DP table by finding most likely previous state\n",
    "    for pos in range(1, seq_len):\n",
    "        for current in hmm_states:\n",
    "            best_prob = 0.0\n",
    "            best_prev = None\n",
    "            for previous in hmm_states:\n",
    "                # Calculate new probability for this transition and emission\n",
    "                new_prob = dp_table[pos-1][previous] * trans_probs[previous][current] * emit_probs[current][dna_seq[pos]]\n",
    "                if new_prob > best_prob:\n",
    "                    best_prob = new_prob\n",
    "                    best_prev = previous\n",
    "            dp_table[pos][current] = best_prob\n",
    "            backtrack[pos][current] = best_prev\n",
    "    \n",
    "    # Traceback: Reconstruct the path by following backpointers\n",
    "    final_state = max(dp_table[seq_len-1], key=dp_table[seq_len-1].get)\n",
    "    best_path = [final_state]\n",
    "    for pos in range(seq_len-1, 0, -1):\n",
    "        final_state = backtrack[pos][final_state]\n",
    "        best_path.insert(0, final_state)\n",
    "\n",
    "    return best_path\n",
    "\n",
    "print(find_best_path(\"CTTCATGTGAAAGCAGACGTAAGTCA\"))"
   ]
  },
  {
   "cell_type": "markdown",
   "id": "ba5656d4",
   "metadata": {},
   "source": [
    "## The Viterbi Algorithm Steps\n",
    "\n",
    "1. **Initialization**: Set up the first column of our Viterbi matrix based on initial probabilities\n",
    "2. **Recursion**: For each position in the sequence, calculate:\n",
    "   - For each possible state, find the most likely previous state\n",
    "   - Update our matrix with the new probability\n",
    "   - Keep track of the \"backpointers\" to remember which path we took\n",
    "3. **Termination**: Find the most likely final state\n",
    "4. **Traceback**: Follow the backpointers to reconstruct the most likely state sequence"
   ]
  },
  {
   "cell_type": "markdown",
   "id": "e656d70b",
   "metadata": {},
   "source": [
    "## Example From the Nature Primer\n",
    "In the primer, they mention calculating the probability of a specific path \"EEEEEEEEEEEEEEEEEE5IIIIIII\" given the observation \"CTTCATGTGAAAGCAGACGTAAGTCA\". When we run through the math, we get a log probability of -41.22.\n",
    "\n",
    "Here's how we'd calculate this by hand:\n",
    "1. For each position, multiply the emission probability with the transition probability\n",
    "2. Convert to log space to avoid underflow\n",
    "3. Sum all the log probabilities\n",
    "\n",
    "For example, if we're in state E and see nucleotide C, we use log(P(C|E)). Then to move to another state E, we add log(P(E→E))."
   ]
  },
  {
   "cell_type": "markdown",
   "id": "d0209d30",
   "metadata": {},
   "source": [
    "## Implementation Notes\n",
    "\n",
    "To implement the Viterbi algorithm, I'd need to:\n",
    "\n",
    "1. Define all my states (E, I, 5)\n",
    "2. Set up transition probabilities between states\n",
    "3. Set up emission probabilities for each nucleotide from each state\n",
    "4. Create a function to calculate the probability of a given path\n",
    "5. Create the actual Viterbi algorithm to find the most likely path\n",
    "\n",
    "The interesting thing is that depending on our parameters, the most likely path might actually just be all exons (EEEE...). This is actually a common outcome when transition probabilities heavily favor staying in one state. It doesn't mean our implementation is wrong - it's just what the math says given our parameters!"
   ]
  },
  {
   "cell_type": "markdown",
   "id": "bc789537",
   "metadata": {},
   "source": [
    "## Interesting Notes\n",
    "- The most likely path might actually just be all exons (EEEE...) depending on our model parameters - this is totally fine!\n",
    "- This algorithm is used all over the place - gene finding, speech recognition, and even in spell checking!\n",
    "\n",
    "## Conclusion\n",
    "The Viterbi algorithm is super useful for decoding the hidden structure in biological sequences. Once you implement it, you can tweak the parameters to better identify different genomic features like coding regions, introns, and splice sites. It's definitely one of the most important algorithms we've learned about in this class!"
   ]
  }
 ],
 "metadata": {
  "kernelspec": {
   "display_name": ".venv",
   "language": "python",
   "name": "python3"
  },
  "language_info": {
   "codemirror_mode": {
    "name": "ipython",
    "version": 3
   },
   "file_extension": ".py",
   "mimetype": "text/x-python",
   "name": "python",
   "nbconvert_exporter": "python",
   "pygments_lexer": "ipython3",
   "version": "3.12.1"
  }
 },
 "nbformat": 4,
 "nbformat_minor": 5
}
