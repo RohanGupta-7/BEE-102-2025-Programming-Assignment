{
 "cells": [
  {
   "cell_type": "markdown",
   "id": "8f4e040f",
   "metadata": {},
   "source": [
    "# Multi-line Sequence FASTA to Single-line FASTA Converter\n",
    "\n",
    "## Problem Statement\n",
    "\n",
    "Many times, it is annoying to find sequences of interest in a FASTA file because of its fixed-width format. In a standard FASTA file with a 60-character fixed-width, each line (except the header line starting with >) contains exactly 60 characters. For example, if a sequence is 600 characters long, it would be written across 10 lines in the file.\n",
    "\n",
    "Your goal is to convert this multi-line format to a single-line format where each header remains on its own line, followed by its complete sequence on a single line.\n",
    "\n",
    "### Input Format\n",
    "\n",
    "A multi-line FASTA file where:\n",
    "- Each sequence begins with a header line starting with '>' followed by an identifier\n",
    "- The actual sequence data follows on subsequent lines with a fixed width\n",
    "\n",
    "### Output Format\n",
    "\n",
    "A single-line FASTA file where:\n",
    "- Each header remains on its own line\n",
    "- The entire sequence for each entry is consolidated onto a single line\n",
    "\n",
    "### Example\n",
    "\n",
    "**Multi-line FASTA (input):**\n",
    "```\n",
    ">Sequence1\n",
    "ATGCATGCAT\n",
    "GCATGCATGC\n",
    "ATGCATGCAT\n",
    ">Sequence2\n",
    "CGTACGTACG\n",
    "TACGTACGTA\n",
    "```\n",
    "\n",
    "**Single-line FASTA (output):**\n",
    "```\n",
    ">Sequence1\n",
    "ATGCATGCATGCATGCATGCATGCATGCAT\n",
    ">Sequence2\n",
    "CGTACGTACGTACGTACGTA\n",
    "```"
   ]
  },
  {
   "cell_type": "markdown",
   "id": "c410893c",
   "metadata": {},
   "source": [
    "### Approach\n",
    "\n",
    "To convert a multi-line FASTA file to a single-line FASTA format, we need to:\n",
    "\n",
    "1. Read the input FASTA file line by line\n",
    "2. Identify header lines (starting with '>')\n",
    "3. Collect and concatenate sequence lines until we reach the next header or the end of the file\n",
    "4. Write each header followed by its concatenated sequence to the output file\n",
    "\n",
    "We'll use basic Python file I/O operations and string manipulation to accomplish this task."
   ]
  },
  {
   "cell_type": "code",
   "execution_count": 5,
   "id": "bdc51d8c",
   "metadata": {},
   "outputs": [],
   "source": [
    "with open(\"Required_Data/multiline_input.fasta\", \"r\") as fasta_in:\n",
    "    fasta_content = fasta_in.readlines()\n",
    "\n",
    "with open(\"Required_Data/singleline_output.fasta\", \"w\") as fasta_out:\n",
    "    current_seq = \"\"\n",
    "    for current_line in fasta_content:\n",
    "        current_line = current_line.strip()\n",
    "        # Main logic: If we hit a header, write the previous sequence and start a new one\n",
    "        if current_line.startswith(\">\"):\n",
    "            if current_seq:\n",
    "                fasta_out.write(current_seq + \"\\n\")\n",
    "                current_seq = \"\"\n",
    "            fasta_out.write(current_line + \"\\n\")\n",
    "        else:\n",
    "            # Concatenate sequence lines to build complete sequence\n",
    "            current_seq += current_line\n",
    "    # Don't forget the last sequence in the file\n",
    "    if current_seq:\n",
    "        fasta_out.write(current_seq + \"\\n\")"
   ]
  }
 ],
 "metadata": {
  "kernelspec": {
   "display_name": ".venv",
   "language": "python",
   "name": "python3"
  },
  "language_info": {
   "codemirror_mode": {
    "name": "ipython",
    "version": 3
   },
   "file_extension": ".py",
   "mimetype": "text/x-python",
   "name": "python",
   "nbconvert_exporter": "python",
   "pygments_lexer": "ipython3",
   "version": "3.12.1"
  }
 },
 "nbformat": 4,
 "nbformat_minor": 5
}
